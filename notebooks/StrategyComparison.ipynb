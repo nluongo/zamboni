{
 "cells": [
  {
   "cell_type": "code",
   "execution_count": null,
   "id": "ed124088-76dc-48f8-899c-7a553e21fe80",
   "metadata": {},
   "outputs": [],
   "source": [
    "from zamboni.training import ZamboniData, ModelInitializer, Trainer, OneSplitStrategy, SequentialStrategy, ResultsAnalyzer\n",
    "from zamboni.data_management import ColumnTracker, ZamboniDataManager\n",
    "import torch"
   ]
  },
  {
   "cell_type": "markdown",
   "id": "ac867661-df92-4ae8-9d76-cc8794174323",
   "metadata": {},
   "source": [
    "### What is the best way to train a model iteratively over time for maximum predictive power?\n",
    "The sequential method tested here is trained day by day - each day the model is trained on the previous day's outcome and then predicts today's games. Training this day gives us the realistic performance as if the model was operating in production over that time period. For comparison, it is tested against a model trained on the first 80% of games in our dataset and evaluated on the remaining 20%."
   ]
  },
  {
   "cell_type": "markdown",
   "id": "db5260a2-4c63-4f77-9103-6ce4dab14082",
   "metadata": {},
   "source": [
    "### First set up our data and create our two models"
   ]
  },
  {
   "cell_type": "code",
   "execution_count": null,
   "id": "3ea180a0-ed2c-4950-bd42-2d9769439cb8",
   "metadata": {},
   "outputs": [],
   "source": [
    "manager = ZamboniDataManager('../data/games_all.parquet')\n",
    "manager.load_parquet()\n",
    "all_data = ZamboniData(manager.data)\n",
    "all_columns = all_data.data.columns.tolist()"
   ]
  },
  {
   "cell_type": "code",
   "execution_count": null,
   "id": "864e090d-470f-411e-8aef-2eb2267949ec",
   "metadata": {},
   "outputs": [],
   "source": [
    "column_tracker = ColumnTracker(all_columns)\n",
    "all_data.column_tracker = column_tracker"
   ]
  },
  {
   "cell_type": "code",
   "execution_count": null,
   "id": "f51974af-0b08-4093-b584-50db9c85de1c",
   "metadata": {},
   "outputs": [],
   "source": [
    "model_init = ModelInitializer('data/embed_test_nn', 'EmbeddingNN', column_tracker)\n",
    "norm_model, norm_optimizer, _, _ = model_init.get_model()\n",
    "seq_model, seq_optimizer, _, _ = model_init.get_model()"
   ]
  },
  {
   "cell_type": "code",
   "execution_count": null,
   "id": "3f1a6997-d5f6-4c04-bd3c-9b681b155251",
   "metadata": {},
   "outputs": [],
   "source": [
    "norm_trainer = Trainer(norm_model, norm_optimizer)\n",
    "seq_trainer = Trainer(seq_model, seq_optimizer)"
   ]
  },
  {
   "cell_type": "markdown",
   "id": "9ae2ef5e-23f9-47c0-8779-29a152b7fc0a",
   "metadata": {},
   "source": [
    "### Run the basic 80/20 strategy"
   ]
  },
  {
   "cell_type": "code",
   "execution_count": null,
   "id": "f4d7c047-e8bb-445c-a363-d03d71589d48",
   "metadata": {},
   "outputs": [],
   "source": [
    "one_split_strat = OneSplitStrategy(all_data, norm_trainer)\n",
    "one_split_strat.split_by_percentage(0.8)\n",
    "min_test_date = min(one_split_strat.test_data.data['datePlayed'])\n",
    "seq_strat = SequentialStrategy(all_data, seq_trainer)"
   ]
  },
  {
   "cell_type": "code",
   "execution_count": null,
   "id": "2edf15dd-c979-4dce-8f3a-f71896e620bd",
   "metadata": {},
   "outputs": [],
   "source": [
    "one_split_trainer, one_split_preds, one_split_labels = one_split_strat.run()\n",
    "one_split_analyzer = ResultsAnalyzer(one_split_preds, one_split_labels)"
   ]
  },
  {
   "cell_type": "markdown",
   "id": "abd12a95-641f-4175-b06f-8358eee6ee74",
   "metadata": {},
   "source": [
    "### Run the sequential training strategy"
   ]
  },
  {
   "cell_type": "code",
   "execution_count": null,
   "id": "d1c6df52-8417-4a57-b3cc-978061560605",
   "metadata": {},
   "outputs": [],
   "source": [
    "seq_trainer, seq_preds, seq_labels = seq_strat.run()\n",
    "seq_analyzer = ResultsAnalyzer(seq_preds, seq_labels)"
   ]
  },
  {
   "cell_type": "code",
   "execution_count": null,
   "id": "d94283fe-7092-4dc4-a947-47b04c9c1827",
   "metadata": {},
   "outputs": [],
   "source": [
    "print(f'Accuracy of 80/20 model: {one_split_analyzer.get_accuracy().item()*100:.1f}%')\n",
    "print(f'Accuracy of sequential model: {seq_analyzer.get_accuracy().item()*100:.1f}%')"
   ]
  },
  {
   "cell_type": "markdown",
   "id": "c0ca3054-b21a-4630-804b-bb779b51e700",
   "metadata": {},
   "source": [
    "It seems like the 80/20 model performs better! But wait, remember that this was only evaluated on the last 20% of games after having trained over the first 80%. This is not realistic unless we are fine with not making any predictions for the majority of games. Plus, it begins making predictions after having been fully trained, whereas the sequential model is asked to make its first prediction after not having trained on anything! So for a fair comparison, we should only consider sequential model predictions after the last date that the 80/20 model was trained on."
   ]
  },
  {
   "cell_type": "code",
   "execution_count": null,
   "id": "0a974a0c-bb9d-4a93-b83c-27c7a60b0ef3",
   "metadata": {},
   "outputs": [],
   "source": [
    "dates_played_mask = all_data.data['datePlayed'] >= min_test_date # 2024-12-18\n",
    "dates_played = all_data.data['datePlayed'][dates_played_mask]"
   ]
  },
  {
   "cell_type": "code",
   "execution_count": null,
   "id": "2d17eefa-56a0-4fed-8d7b-d26dd2816690",
   "metadata": {},
   "outputs": [],
   "source": [
    "dates_played_mask = dates_played_mask.reset_index(drop=True)\n",
    "seq_analyzer_comp = ResultsAnalyzer(seq_preds[dates_played_mask], seq_labels[dates_played_mask])"
   ]
  },
  {
   "cell_type": "code",
   "execution_count": null,
   "id": "5489b55b-23cf-4c7e-8e76-263d29821f05",
   "metadata": {},
   "outputs": [],
   "source": [
    "print(f'Accuracy of sequential model after max 80/20 training date: {seq_analyzer_comp.get_accuracy().item()*100:.1f}%')"
   ]
  },
  {
   "cell_type": "markdown",
   "id": "98887c7f-b671-44e4-a8e7-24b086b3b903",
   "metadata": {},
   "source": [
    "Still not as high as the 80/20 model, but much closer. This could be down to probabilistic fluctuations in how networks are initialized and trained. Or it could be that the sequential training method is less performant. But we can take advantage of the sequential training by pushing the minimum evaluation date even further into the future."
   ]
  },
  {
   "cell_type": "code",
   "execution_count": null,
   "id": "13781300-be1c-4a04-a421-7a9f6abb53e9",
   "metadata": {},
   "outputs": [],
   "source": [
    "min_test_date = '2025-01-18'"
   ]
  },
  {
   "cell_type": "code",
   "execution_count": null,
   "id": "af323d65-5862-45ea-8509-dfd3fd092c93",
   "metadata": {},
   "outputs": [],
   "source": [
    "dates_played_mask = all_data.data['datePlayed'] >= min_test_date # 2025-01-18\n",
    "dates_played = all_data.data['datePlayed'][dates_played_mask]"
   ]
  },
  {
   "cell_type": "code",
   "execution_count": null,
   "id": "2a79e4a8-8285-482f-b0da-73d09d00c6a6",
   "metadata": {},
   "outputs": [],
   "source": [
    "dates_played_mask = dates_played_mask.reset_index(drop=True)\n",
    "seq_analyzer_comp = ResultsAnalyzer(seq_preds[dates_played_mask], seq_labels[dates_played_mask])"
   ]
  },
  {
   "cell_type": "code",
   "execution_count": null,
   "id": "49827b5f-d551-4d1c-8713-2bc1d98d3d50",
   "metadata": {},
   "outputs": [],
   "source": [
    "print(f'Accuracy of sequential model at a later date: {seq_analyzer_comp.get_accuracy().item()*100:.1f}%')"
   ]
  },
  {
   "cell_type": "markdown",
   "id": "fd4f14a8-cc77-4bcf-9b79-294e83a40d72",
   "metadata": {},
   "source": [
    "We see that the accuracy continues to increase! So more data is helping our sequential model make better and better predictions!"
   ]
  },
  {
   "cell_type": "code",
   "execution_count": null,
   "id": "6282bdff-7bac-4f47-a6b4-f6b30e22fc2d",
   "metadata": {},
   "outputs": [],
   "source": []
  }
 ],
 "metadata": {
  "kernelspec": {
   "display_name": "Python 3 (ipykernel)",
   "language": "python",
   "name": "python3"
  },
  "language_info": {
   "codemirror_mode": {
    "name": "ipython",
    "version": 3
   },
   "file_extension": ".py",
   "mimetype": "text/x-python",
   "name": "python",
   "nbconvert_exporter": "python",
   "pygments_lexer": "ipython3",
   "version": "3.10.6"
  }
 },
 "nbformat": 4,
 "nbformat_minor": 5
}
