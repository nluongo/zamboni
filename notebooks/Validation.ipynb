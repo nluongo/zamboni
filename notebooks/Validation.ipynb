{
 "cells": [
  {
   "cell_type": "code",
   "execution_count": null,
   "id": "65e80f15-e990-4733-992e-21e7de81bf47",
   "metadata": {},
   "outputs": [],
   "source": [
    "from zamboni import DBConnector, Exporter\n",
    "from zamboni.pd_helpers import filter_by_game_type, filter_by_season, filter_by_team, won_by_team, _wins_game\n",
    "import pandas as pd\n",
    "import numpy as np\n",
    "import matplotlib.pyplot as plt\n",
    "import torch\n",
    "import torch.nn as nn"
   ]
  },
  {
   "cell_type": "code",
   "execution_count": null,
   "id": "1365af74-2a78-469b-82e5-2f8fcf7e2020",
   "metadata": {},
   "outputs": [],
   "source": [
    "db_con = DBConnector('../data/zamboni.db')\n",
    "conn = db_con.connect_db()"
   ]
  },
  {
   "cell_type": "code",
   "execution_count": null,
   "id": "acb4ae42-143d-42df-90e1-1cc0e7227ba6",
   "metadata": {},
   "outputs": [],
   "source": [
    "sql = 'SELECT * FROM games INNER JOIN teams home_teams ON games.homeTeamID = home_teams.id INNER JOIN teams away_teams ON games.awayTeamID = away_teams.id'\n",
    "teams_sql = 'SELECT * FROM teams'"
   ]
  },
  {
   "cell_type": "code",
   "execution_count": null,
   "id": "b5def0d7-e111-4067-99e3-7783329388f8",
   "metadata": {},
   "outputs": [],
   "source": [
    "df = pd.read_sql(sql, conn)\n",
    "teams_info_df = pd.read_sql(teams_sql, conn)"
   ]
  },
  {
   "cell_type": "code",
   "execution_count": null,
   "id": "70e1bf81-a964-4907-af5c-e566778bd249",
   "metadata": {},
   "outputs": [],
   "source": [
    "print(teams_info_df)"
   ]
  },
  {
   "cell_type": "code",
   "execution_count": null,
   "id": "aae58c75-f33f-4932-9301-5bfe6c0ccd92",
   "metadata": {},
   "outputs": [],
   "source": [
    "print(df.iloc[0])"
   ]
  },
  {
   "cell_type": "code",
   "execution_count": null,
   "id": "512757e0-0044-46cc-822a-fd94e926d45c",
   "metadata": {},
   "outputs": [],
   "source": [
    "fig, ax = plt.subplots(figsize=(10,10))\n",
    "\n",
    "season_id = 20222023\n",
    "\n",
    "season_df = filter_by_season(df, season_id)\n",
    "team_ids = list(set(season_df['homeTeamID']))\n",
    "records = []\n",
    "\n",
    "for team_id in team_ids:\n",
    "    team_df = filter_by_team(season_df, team_id)\n",
    "    wins = team_df.apply(_wins_game, args=(team_id,), axis=1)\n",
    "    abbrev = teams_info_df[teams_info_df['id'] == team_id]['nameAbbrev'].values[0]\n",
    "    records += [[abbrev, len(wins)]]\n",
    "\n",
    "records = sorted(records, reverse=False, key=lambda x:x[1])\n",
    "abbrevs = [record[0] for record in records]\n",
    "wins = [record[1] for record in records]\n",
    "ys = [2*i for i in range(len(records))]\n",
    "plt.barh(ys, wins)\n",
    "plt.yticks(ys, abbrevs)\n",
    "plt.title('Wins (2022-2023)', size=20)\n",
    "plt.ylabel('Team')\n",
    "plt.xlabel('Wins')\n",
    "plt.show()"
   ]
  },
  {
   "cell_type": "code",
   "execution_count": null,
   "id": "cf3ffc4c-7d9e-4dc5-a5e6-8d68977dee39",
   "metadata": {},
   "outputs": [],
   "source": [
    "a_df = filter_by_team(df, 1)\n",
    "a_df = filter_by_game_type(a_df, 2)\n",
    "a_df = filter_by_season(a_df, 20222023)\n",
    "#a_df = won_by_team(a_df, 1)\n",
    "print(len(a_df))\n",
    "print(a_df)"
   ]
  },
  {
   "cell_type": "code",
   "execution_count": null,
   "id": "b0a422b5-4edb-4151-bbdd-c273978968ea",
   "metadata": {},
   "outputs": [],
   "source": [
    "fil_df = a_df\n",
    "fil_df['Won'] = df.apply(_wins_game, axis=1)\n",
    "fil_df['Lost'] = ~fil_df['Won']\n",
    "fil_df['WonLast'] = fil_df['Won'].shift(1)\n",
    "fil_df['WonNext'] = fil_df['Won'].shift(-1)\n",
    "fil_df['WonAndNext'] = fil_df['Won'] & fil_df['WonNext']\n",
    "fil_df['LostWonNext'] = fil_df['Lost'] & fil_df['WonNext']"
   ]
  },
  {
   "cell_type": "code",
   "execution_count": null,
   "id": "3f31cdb0-7f85-4ab9-9c07-3e85be3a30f9",
   "metadata": {},
   "outputs": [],
   "source": [
    "print(fil_df.iloc[0])"
   ]
  },
  {
   "cell_type": "code",
   "execution_count": null,
   "id": "03266588-efde-4034-b95c-8a078b0348d3",
   "metadata": {},
   "outputs": [],
   "source": [
    "print(f'Games: {len(fil_df)}')\n",
    "print(f'Wins: {sum(fil_df[\"Won\"])}')\n",
    "print(sum(fil_df['Won'])/len(fil_df))"
   ]
  },
  {
   "cell_type": "code",
   "execution_count": null,
   "id": "0f2d8564-2556-4a6b-9c23-6776f14c3788",
   "metadata": {},
   "outputs": [],
   "source": [
    "print(sum(fil_df[:-1]['WonAndNext']) / sum(fil_df[:-1]['Won']))\n",
    "print(sum(fil_df[:-1]['LostWonNext']) / sum(fil_df[:-1]['Lost']))"
   ]
  },
  {
   "cell_type": "code",
   "execution_count": null,
   "id": "59d5599c-a11e-40a0-a452-fd1a5115adf6",
   "metadata": {},
   "outputs": [],
   "source": [
    "sql = 'SELECT gameID, '\\\n",
    "        'teamID, '\\\n",
    "\t\t'seasonID, '\\\n",
    "\t\t'won, '\\\n",
    "        'COUNT(*) AS prevGames, '\\\n",
    "\t\t'CAST(SUM(prevWon) AS REAL) / COUNT(*) AS prevWonPercentage, '\\\n",
    "        'CAST(SUM(prevGoals) AS REAL) / COUNT(*) AS prevGoalsScoredPerGame, '\\\n",
    "        'CAST(SUM(prevOppGoals) AS REAL) / COUNT(*) AS prevGoalsAgainstPerGame, '\\\n",
    "\t\t'SUM(prevWon), '\\\n",
    "\t\t'SUM(prevGoals), '\\\n",
    "\t\t'SUM(prevOppGoals), '\\\n",
    "\t\t'COUNT(*) '\\\n",
    "\t'FROM games_with_previous '\\\n",
    "    'WHERE teamID=1 '\\\n",
    "    'AND seasonID=20202021 '\\\n",
    "\t'GROUP BY gameID, seasonID'"
   ]
  },
  {
   "cell_type": "code",
   "execution_count": null,
   "id": "0171ec6f-738a-45b2-a135-a3c55ef12009",
   "metadata": {},
   "outputs": [],
   "source": [
    "df = pd.read_sql(sql, conn)"
   ]
  },
  {
   "cell_type": "code",
   "execution_count": null,
   "id": "94d3c52e-e70c-4487-9d39-55e575458c8a",
   "metadata": {},
   "outputs": [],
   "source": [
    "print(df)"
   ]
  },
  {
   "cell_type": "code",
   "execution_count": null,
   "id": "8988f96c-796b-48ff-9c35-d1fc14e04225",
   "metadata": {},
   "outputs": [],
   "source": [
    "embedder = nn.Embedding(1, 5)"
   ]
  },
  {
   "cell_type": "code",
   "execution_count": null,
   "id": "93739406-5bda-461e-9d29-69c10ee8a4ae",
   "metadata": {},
   "outputs": [],
   "source": [
    "cats = torch.LongTensor([0])\n",
    "print(embedder(cats))"
   ]
  },
  {
   "cell_type": "code",
   "execution_count": null,
   "id": "9db5ec4a-903e-481a-925f-8df8b6530318",
   "metadata": {},
   "outputs": [],
   "source": []
  }
 ],
 "metadata": {
  "kernelspec": {
   "display_name": "Python 3 (ipykernel)",
   "language": "python",
   "name": "python3"
  },
  "language_info": {
   "codemirror_mode": {
    "name": "ipython",
    "version": 3
   },
   "file_extension": ".py",
   "mimetype": "text/x-python",
   "name": "python",
   "nbconvert_exporter": "python",
   "pygments_lexer": "ipython3",
   "version": "3.10.6"
  }
 },
 "nbformat": 4,
 "nbformat_minor": 5
}
