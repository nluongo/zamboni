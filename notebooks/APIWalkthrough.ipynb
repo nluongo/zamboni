{
 "cells": [
  {
   "cell_type": "markdown",
   "id": "974359e7-fe67-4158-bdd3-ff999869245e",
   "metadata": {},
   "source": [
    "## NHL API "
   ]
  },
  {
   "cell_type": "markdown",
   "id": "c3f11b73-66a7-44f3-8f8c-305e14a2d167",
   "metadata": {},
   "source": [
    "This API allows us to query information about NHL games, players, teams, etc.\n",
    "We'll see an example of each of these using the Zamboni API caller."
   ]
  },
  {
   "cell_type": "code",
   "execution_count": 1,
   "id": "eb361180-cd56-4c88-a0f4-1221cd9fd59c",
   "metadata": {},
   "outputs": [],
   "source": [
    "from zamboni import APICaller\n",
    "from datetime import date\n",
    "import json\n",
    "from pprint import pprint"
   ]
  },
  {
   "cell_type": "markdown",
   "id": "a5e252e5-40f3-48a2-acee-61f69a81111b",
   "metadata": {},
   "source": [
    "### Games"
   ]
  },
  {
   "cell_type": "markdown",
   "id": "475c75e7-25a9-456e-9527-741aac0b903d",
   "metadata": {},
   "source": [
    "The \"schedule\" endpoint receives a date and returns JSON holding all of the games information (plus results) for that date and each day for the next week\n",
    "\n",
    "Here we query the following URL: https://api-web.nhle.com/v1/schedule/2024-11-05"
   ]
  },
  {
   "cell_type": "code",
   "execution_count": 9,
   "id": "ed0530c4-a704-4381-8c65-828ae01b585c",
   "metadata": {},
   "outputs": [],
   "source": [
    "game_caller = APICaller('game')\n",
    "\n",
    "game_date = date(2024, 11, 5)\n",
    "game_info = game_caller.query([game_date])"
   ]
  },
  {
   "cell_type": "markdown",
   "id": "a2219e18-e8d4-4c36-a6d5-772634e0ffaf",
   "metadata": {},
   "source": [
    "Here are the top-level keys of the returned JSON object"
   ]
  },
  {
   "cell_type": "code",
   "execution_count": 11,
   "id": "39a4ca99-d617-48a9-bbea-966ba98c9e1a",
   "metadata": {},
   "outputs": [
    {
     "name": "stdout",
     "output_type": "stream",
     "text": [
      "dict_keys(['nextStartDate', 'previousStartDate', 'gameWeek', 'preSeasonStartDate', 'regularSeasonStartDate', 'regularSeasonEndDate', 'playoffEndDate', 'numberOfGames'])\n"
     ]
    }
   ],
   "source": [
    "print(game_info.keys())"
   ]
  },
  {
   "cell_type": "markdown",
   "id": "50347c57-2b00-48b0-822a-b345f640f5e2",
   "metadata": {},
   "source": [
    "The gameWeek object holds the games for each day of the week. It can be unpacked as follows:"
   ]
  },
  {
   "cell_type": "code",
   "execution_count": 12,
   "id": "cc474c5c-cebd-44d7-bb93-703ea723c168",
   "metadata": {},
   "outputs": [
    {
     "name": "stdout",
     "output_type": "stream",
     "text": [
      "Date: 2024-11-07\n",
      "\n",
      "Boston Bruins\n",
      "Calgary Flames\n",
      "CGY\n",
      "4 - 3\n",
      "\n",
      "Ottawa Senators\n",
      "New York Islanders\n",
      "NYI\n",
      "2 - 4\n",
      "\n",
      "Florida Panthers\n",
      "Nashville Predators\n",
      "NSH\n",
      "6 - 2\n",
      "\n",
      "New Jersey Devils\n",
      "Montréal Canadiens\n",
      "MTL\n",
      "5 - 3\n",
      "\n",
      "New York Rangers\n",
      "Buffalo Sabres\n",
      "BUF\n",
      "1 - 6\n",
      "\n",
      "Carolina Hurricanes\n",
      "Pittsburgh Penguins\n",
      "PIT\n",
      "5 - 1\n",
      "\n",
      "Tampa Bay Lightning\n",
      "Philadelphia Flyers\n",
      "PHI\n",
      "1 - 2\n",
      "\n",
      "St. Louis Blues\n",
      "Utah Utah Hockey Club\n",
      "UTA\n",
      "2 - 4\n",
      "\n",
      "Dallas Stars\n",
      "Chicago Blackhawks\n",
      "CHI\n",
      "3 - 1\n",
      "\n",
      "Winnipeg Jets\n",
      "Colorado Avalanche\n",
      "COL\n",
      "1 - 0\n",
      "\n",
      "Los Angeles Kings\n",
      "Vancouver Canucks\n",
      "VAN\n",
      "2 - 4\n",
      "\n",
      "San Jose Sharks\n",
      "Minnesota Wild\n",
      "MIN\n",
      "2 - 5\n",
      "\n",
      "Date: 2024-11-08\n",
      "\n",
      "Toronto Maple Leafs\n",
      "Detroit Red Wings\n",
      "DET\n",
      "3 - 1\n",
      "\n",
      "Washington Capitals\n",
      "Pittsburgh Penguins\n",
      "PIT\n",
      "2 - 4\n",
      "\n",
      "Anaheim Ducks\n",
      "Minnesota Wild\n",
      "MIN\n",
      "2 - 5\n",
      "\n",
      "Seattle Kraken\n",
      "Vegas Golden Knights\n",
      "VGK\n",
      "4 - 3\n",
      "\n",
      "Date: 2024-11-09\n",
      "\n",
      "Buffalo Sabres\n",
      "Calgary Flames\n",
      "CGY\n",
      "3 - 2\n",
      "\n",
      "Winnipeg Jets\n",
      "Dallas Stars\n",
      "DAL\n",
      "4 - 1\n",
      "\n",
      "Florida Panthers\n",
      "Philadelphia Flyers\n",
      "PHI\n",
      "4 - 3\n",
      "\n",
      "Boston Bruins\n",
      "Ottawa Senators\n",
      "OTT\n",
      "2 - 3\n",
      "\n",
      "Toronto Maple Leafs\n",
      "Montréal Canadiens\n",
      "MTL\n",
      "4 - 1\n",
      "\n",
      "Detroit Red Wings\n",
      "New York Rangers\n",
      "NYR\n",
      "0 - 4\n",
      "\n",
      "St. Louis Blues\n",
      "Washington Capitals\n",
      "WSH\n",
      "1 - 8\n",
      "\n",
      "New York Islanders\n",
      "New Jersey Devils\n",
      "NJD\n",
      "3 - 4\n",
      "\n",
      "Nashville Predators\n",
      "Utah Utah Hockey Club\n",
      "UTA\n",
      "4 - 0\n",
      "\n",
      "Colorado Avalanche\n",
      "Carolina Hurricanes\n",
      "CAR\n",
      "6 - 4\n",
      "\n",
      "Los Angeles Kings\n",
      "Columbus Blue Jackets\n",
      "CBJ\n",
      "5 - 2\n",
      "\n",
      "Vancouver Canucks\n",
      "Edmonton Oilers\n",
      "EDM\n",
      "3 - 7\n",
      "\n",
      "Date: 2024-11-10\n",
      "\n",
      "New Jersey Devils\n",
      "San Jose Sharks\n",
      "SJS\n",
      "0 - 1\n",
      "\n",
      "Chicago Blackhawks\n",
      "Minnesota Wild\n",
      "MIN\n",
      "2 - 1\n",
      "\n",
      "Anaheim Ducks\n",
      "Columbus Blue Jackets\n",
      "CBJ\n",
      "4 - 2\n",
      "\n",
      "Date: 2024-11-11\n",
      "\n",
      "Buffalo Sabres\n",
      "Montréal Canadiens\n",
      "MTL\n",
      "5 - 7\n",
      "\n",
      "Philadelphia Flyers\n",
      "San Jose Sharks\n",
      "SJS\n",
      "4 - 3\n",
      "\n",
      "Pittsburgh Penguins\n",
      "Dallas Stars\n",
      "DAL\n",
      "1 - 7\n",
      "\n",
      "Calgary Flames\n",
      "Los Angeles Kings\n",
      "LAK\n",
      "3 - 1\n",
      "\n",
      "Colorado Avalanche\n",
      "Nashville Predators\n",
      "NSH\n",
      "3 - 2\n",
      "\n",
      "Vegas Golden Knights\n",
      "Carolina Hurricanes\n",
      "CAR\n",
      "2 - 5\n",
      "\n",
      "Date: 2024-11-12\n",
      "\n",
      "Toronto Maple Leafs\n",
      "Ottawa Senators\n",
      "OTT\n",
      "0 - 3\n",
      "\n",
      "New York Rangers\n",
      "Winnipeg Jets\n",
      "WPG\n",
      "3 - 6\n",
      "\n",
      "Florida Panthers\n",
      "New Jersey Devils\n",
      "NJD\n",
      "1 - 4\n",
      "\n",
      "St. Louis Blues\n",
      "Boston Bruins\n",
      "BOS\n",
      "2 - 3\n",
      "\n",
      "Edmonton Oilers\n",
      "New York Islanders\n",
      "NYI\n",
      "4 - 3\n",
      "\n",
      "Vancouver Canucks\n",
      "Calgary Flames\n",
      "CGY\n",
      "3 - 1\n",
      "\n",
      "Seattle Kraken\n",
      "Columbus Blue Jackets\n",
      "CBJ\n",
      "5 - 2\n",
      "\n",
      "Date: 2024-11-13\n",
      "\n",
      "Pittsburgh Penguins\n",
      "Detroit Red Wings\n",
      "DET\n",
      "2 - 3\n",
      "\n",
      "Washington Capitals\n",
      "Toronto Maple Leafs\n",
      "TOR\n",
      "3 - 4\n",
      "\n",
      "Utah Utah Hockey Club\n",
      "Carolina Hurricanes\n",
      "CAR\n",
      "4 - 1\n",
      "\n",
      "Colorado Avalanche\n",
      "Los Angeles Kings\n",
      "LAK\n",
      "4 - 2\n",
      "\n",
      "Anaheim Ducks\n",
      "Vegas Golden Knights\n",
      "VGK\n",
      "2 - 3\n",
      "\n"
     ]
    }
   ],
   "source": [
    "game_week = game_info['gameWeek']\n",
    "for day in game_week:\n",
    "    print(f'Date: {day[\"date\"]}')\n",
    "    print()\n",
    "    games = day['games']\n",
    "    for game in games:\n",
    "        home_team = game['homeTeam']\n",
    "        away_team = game['awayTeam']\n",
    "        print(f'{home_team[\"placeName\"][\"default\"]} {home_team[\"commonName\"][\"default\"]}')\n",
    "        print(f'{away_team[\"placeName\"][\"default\"]} {away_team[\"commonName\"][\"default\"]}')\n",
    "        print(game['awayTeam']['abbrev'])\n",
    "        print(f'{game[\"homeTeam\"][\"score\"]} - {game[\"awayTeam\"][\"score\"]}')\n",
    "        print()\n"
   ]
  },
  {
   "cell_type": "markdown",
   "id": "3ea6d59c-f1bf-45ac-9dd3-ed2c9c52df0c",
   "metadata": {},
   "source": [
    "### Teams"
   ]
  },
  {
   "cell_type": "markdown",
   "id": "c0a9b125-8de4-4586-92d9-4a2f58711a8b",
   "metadata": {},
   "source": [
    "For a list of all teams, we can use the \"standings\" endpoint. It also provides a wide variety of metrics for team performance at any given date provided to it\n",
    "\n",
    "We query this URL: https://api-web.nhle.com/v1/standings/now"
   ]
  },
  {
   "cell_type": "code",
   "execution_count": 17,
   "id": "6c38c20a-0d6e-4d84-b2df-de010c3f154d",
   "metadata": {
    "scrolled": true
   },
   "outputs": [],
   "source": [
    "team_caller = APICaller('standings')\n",
    "\n",
    "standings_info = team_caller.query([])"
   ]
  },
  {
   "cell_type": "markdown",
   "id": "fe192d25-197c-45db-9d87-fdeca7d0afa5",
   "metadata": {},
   "source": [
    "Here is the information given for any team in the output from the standings call"
   ]
  },
  {
   "cell_type": "code",
   "execution_count": null,
   "id": "d100e714-d8e1-42da-b6d8-369a234aea97",
   "metadata": {},
   "outputs": [
    {
     "name": "stdout",
     "output_type": "stream",
     "text": [
      "{'conferenceAbbrev': 'E',\n",
      " 'conferenceHomeSequence': 2,\n",
      " 'conferenceL10Sequence': 1,\n",
      " 'conferenceName': 'Eastern',\n",
      " 'conferenceRoadSequence': 1,\n",
      " 'conferenceSequence': 1,\n",
      " 'date': '2025-01-19',\n",
      " 'divisionAbbrev': 'M',\n",
      " 'divisionHomeSequence': 2,\n",
      " 'divisionL10Sequence': 1,\n",
      " 'divisionName': 'Metropolitan',\n",
      " 'divisionRoadSequence': 1,\n",
      " 'divisionSequence': 1,\n",
      " 'gameTypeId': 2,\n",
      " 'gamesPlayed': 46,\n",
      " 'goalAgainst': 114,\n",
      " 'goalDifferential': 50,\n",
      " 'goalDifferentialPctg': 1.086957,\n",
      " 'goalFor': 164,\n",
      " 'goalsForPctg': 3.565217,\n",
      " 'homeGamesPlayed': 24,\n",
      " 'homeGoalDifferential': 26,\n",
      " 'homeGoalsAgainst': 59,\n",
      " 'homeGoalsFor': 85,\n",
      " 'homeLosses': 4,\n",
      " 'homeOtLosses': 4,\n",
      " 'homePoints': 36,\n",
      " 'homeRegulationPlusOtWins': 16,\n",
      " 'homeRegulationWins': 14,\n",
      " 'homeTies': 0,\n",
      " 'homeWins': 16,\n",
      " 'l10GamesPlayed': 10,\n",
      " 'l10GoalDifferential': 13,\n",
      " 'l10GoalsAgainst': 19,\n",
      " 'l10GoalsFor': 32,\n",
      " 'l10Losses': 0,\n",
      " 'l10OtLosses': 3,\n",
      " 'l10Points': 17,\n",
      " 'l10RegulationPlusOtWins': 7,\n",
      " 'l10RegulationWins': 5,\n",
      " 'l10Ties': 0,\n",
      " 'l10Wins': 7,\n",
      " 'leagueHomeSequence': 4,\n",
      " 'leagueL10Sequence': 1,\n",
      " 'leagueRoadSequence': 2,\n",
      " 'leagueSequence': 1,\n",
      " 'losses': 10,\n",
      " 'otLosses': 5,\n",
      " 'placeName': {'default': 'Washington'},\n",
      " 'pointPctg': 0.728261,\n",
      " 'points': 67,\n",
      " 'regulationPlusOtWinPctg': 0.673913,\n",
      " 'regulationPlusOtWins': 31,\n",
      " 'regulationWinPctg': 0.565217,\n",
      " 'regulationWins': 26,\n",
      " 'roadGamesPlayed': 22,\n",
      " 'roadGoalDifferential': 24,\n",
      " 'roadGoalsAgainst': 55,\n",
      " 'roadGoalsFor': 79,\n",
      " 'roadLosses': 6,\n",
      " 'roadOtLosses': 1,\n",
      " 'roadPoints': 31,\n",
      " 'roadRegulationPlusOtWins': 15,\n",
      " 'roadRegulationWins': 12,\n",
      " 'roadTies': 0,\n",
      " 'roadWins': 15,\n",
      " 'seasonId': 20242025,\n",
      " 'shootoutLosses': 2,\n",
      " 'shootoutWins': 0,\n",
      " 'streakCode': 'W',\n",
      " 'streakCount': 4,\n",
      " 'teamAbbrev': {'default': 'WSH'},\n",
      " 'teamCommonName': {'default': 'Capitals'},\n",
      " 'teamLogo': 'https://assets.nhle.com/logos/nhl/svg/WSH_secondary_light.svg',\n",
      " 'teamName': {'default': 'Washington Capitals', 'fr': 'Capitals de Washington'},\n",
      " 'ties': 0,\n",
      " 'waiversSequence': 32,\n",
      " 'wildcardSequence': 0,\n",
      " 'winPctg': 0.673913,\n",
      " 'wins': 31}\n"
     ]
    }
   ],
   "source": [
    "pprint(standings_info['standings'][0])"
   ]
  },
  {
   "cell_type": "markdown",
   "id": "afef54ca-ef3e-4b41-9b88-9fa0a94d63b8",
   "metadata": {},
   "source": [
    "### Players"
   ]
  },
  {
   "cell_type": "markdown",
   "id": "9df845bb-3331-4fbe-bc0d-4ae6a55b05e8",
   "metadata": {},
   "source": [
    "Information about individual players can be accessed at the \"players\" endpoint.\n",
    "\n",
    "Information from the following URL: https://api-web.nhle.com/v1/player/8457063/landing"
   ]
  },
  {
   "cell_type": "code",
   "execution_count": 29,
   "id": "86f9a5a1-b04a-4174-a6e4-a925314fd879",
   "metadata": {},
   "outputs": [],
   "source": [
    "player_caller = APICaller('player')\n",
    "\n",
    "player_info = player_caller.query([8457063])"
   ]
  },
  {
   "cell_type": "code",
   "execution_count": 32,
   "id": "ce0eb92a-f77c-41b1-8519-6fc985bd0f94",
   "metadata": {},
   "outputs": [
    {
     "name": "stdout",
     "output_type": "stream",
     "text": [
      "dict_keys(['playerId', 'isActive', 'firstName', 'lastName', 'badges', 'sweaterNumber', 'position', 'headshot', 'heroImage', 'heightInInches', 'heightInCentimeters', 'weightInPounds', 'weightInKilograms', 'birthDate', 'birthCity', 'birthCountry', 'shootsCatches', 'draftDetails', 'playerSlug', 'inTop100AllTime', 'inHHOF', 'featuredStats', 'careerTotals', 'shopLink', 'twitterLink', 'watchLink', 'last5Games', 'seasonTotals', 'awards'])\n"
     ]
    }
   ],
   "source": [
    "print(player_info.keys())"
   ]
  },
  {
   "cell_type": "code",
   "execution_count": 43,
   "id": "ac66c133-451d-404f-bb01-f581d12df680",
   "metadata": {},
   "outputs": [
    {
     "name": "stdout",
     "output_type": "stream",
     "text": [
      "Name: Nicklas Lidstrom\n",
      "Number: 5\n",
      "Position: D\n",
      "Career Totals\n",
      "{'playoffs': {'assists': 129,\n",
      "              'gameWinningGoals': 11,\n",
      "              'gamesPlayed': 263,\n",
      "              'goals': 54,\n",
      "              'otGoals': 1,\n",
      "              'pim': 76,\n",
      "              'plusMinus': 61,\n",
      "              'points': 183,\n",
      "              'powerPlayGoals': 30,\n",
      "              'powerPlayPoints': 111,\n",
      "              'shootingPctg': 0.0823,\n",
      "              'shorthandedGoals': 3,\n",
      "              'shorthandedPoints': 6,\n",
      "              'shots': 656},\n",
      " 'regularSeason': {'assists': 878,\n",
      "                   'gameWinningGoals': 35,\n",
      "                   'gamesPlayed': 1564,\n",
      "                   'goals': 264,\n",
      "                   'otGoals': 4,\n",
      "                   'pim': 514,\n",
      "                   'plusMinus': 450,\n",
      "                   'points': 1142,\n",
      "                   'powerPlayGoals': 132,\n",
      "                   'powerPlayPoints': 590,\n",
      "                   'shootingPctg': 0.0681,\n",
      "                   'shorthandedGoals': 10,\n",
      "                   'shorthandedPoints': 40,\n",
      "                   'shots': 3875}}\n"
     ]
    }
   ],
   "source": [
    "print(f'Name: {player_info[\"firstName\"][\"default\"]} {player_info[\"lastName\"][\"default\"]}')\n",
    "print(f'Number: {player_info[\"sweaterNumber\"]}')\n",
    "print(f'Position: {player_info[\"position\"]}')\n",
    "print('Career Totals')\n",
    "pprint(player_info[\"careerTotals\"])"
   ]
  },
  {
   "cell_type": "markdown",
   "id": "93c01e34-4e51-4af0-b810-10f8181f3f93",
   "metadata": {},
   "source": [
    "### Rosters"
   ]
  },
  {
   "cell_type": "markdown",
   "id": "06441721-95b2-4eab-8c73-5b58a32b4c32",
   "metadata": {},
   "source": [
    "The \"roster\" endpoint gives information on which players are assigned to which team for a given season. The team and season must be supplied.\n",
    "\n",
    "URL: https://api-web.nhle.com/v1/roster/DET/202024"
   ]
  },
  {
   "cell_type": "code",
   "execution_count": null,
   "id": "40d33e19-483a-4caa-b6a6-2094452a9df4",
   "metadata": {},
   "outputs": [],
   "source": [
    "roster_caller = APICaller('roster')\n",
    "\n",
    "roster_info = roster_caller.query(['DET', 1997, 1998])"
   ]
  },
  {
   "cell_type": "markdown",
   "id": "0b313d5b-460e-4fce-b763-70d2d5cd18dd",
   "metadata": {},
   "source": [
    "The roster is split by position"
   ]
  },
  {
   "cell_type": "code",
   "execution_count": 50,
   "id": "51f8e592-1023-4d78-b8dd-6b2c63b901fe",
   "metadata": {},
   "outputs": [
    {
     "name": "stdout",
     "output_type": "stream",
     "text": [
      "dict_keys(['forwards', 'defensemen', 'goalies'])\n"
     ]
    }
   ],
   "source": [
    "print(roster_info.keys())"
   ]
  },
  {
   "cell_type": "code",
   "execution_count": 53,
   "id": "522931ea-dc3d-48af-960d-061dbbcbbf31",
   "metadata": {},
   "outputs": [],
   "source": [
    "forwards = roster_info['forwards']\n",
    "defensemen = roster_info['defensemen']\n",
    "goalies = roster_info['goalies']"
   ]
  },
  {
   "cell_type": "code",
   "execution_count": 57,
   "id": "29ce5b0f-d8d4-47ae-9acd-a1d8da62d4c3",
   "metadata": {},
   "outputs": [
    {
     "name": "stdout",
     "output_type": "stream",
     "text": [
      "forwards\n",
      "Name: Doug Brown\n",
      "Name: Mathieu Dandenault\n",
      "Name: Kris Draper\n",
      "Name: Sergei Fedorov\n",
      "Name: Brent Gilchrist\n",
      "Name: Tomas Holmstrom\n",
      "Name: Mike Knuble\n",
      "Name: Joey Kocur\n",
      "Name: Vyacheslav Kozlov\n",
      "Name: Darryl Laplante\n",
      "Name: Martin Lapointe\n",
      "Name: Igor Larionov\n",
      "Name: Kirk Maltby\n",
      "Name: Darren McCarty\n",
      "Name: Brendan Shanahan\n",
      "Name: Steve Yzerman\n",
      "\n",
      "defensemen\n",
      "Name: Anders Eriksson\n",
      "Name: Viacheslav Fetisov\n",
      "Name: Yan Golubovsky\n",
      "Name: Nicklas Lidstrom\n",
      "Name: Jamie Macoun\n",
      "Name: Dmitri Mironov\n",
      "Name: Larry Murphy\n",
      "Name: Jamie Pushor\n",
      "Name: Bob Rouse\n",
      "Name: Aaron Ward\n",
      "\n",
      "goalies\n",
      "Name: Kevin Hodson\n",
      "Name: Norm Maracle\n",
      "Name: Chris Osgood\n",
      "\n"
     ]
    }
   ],
   "source": [
    "for position in ['forwards', 'defensemen', 'goalies']:\n",
    "    players = roster_info[position]\n",
    "    print(position)\n",
    "    for player in players:\n",
    "        print(f'Name: {player[\"firstName\"][\"default\"]} {player[\"lastName\"][\"default\"]}')\n",
    "    print()"
   ]
  },
  {
   "cell_type": "code",
   "execution_count": null,
   "id": "51c6a51c-1f08-493c-9e7a-0cff2483d9d4",
   "metadata": {},
   "outputs": [],
   "source": []
  }
 ],
 "metadata": {
  "kernelspec": {
   "display_name": "Python 3 (ipykernel)",
   "language": "python",
   "name": "python3"
  },
  "language_info": {
   "codemirror_mode": {
    "name": "ipython",
    "version": 3
   },
   "file_extension": ".py",
   "mimetype": "text/x-python",
   "name": "python",
   "nbconvert_exporter": "python",
   "pygments_lexer": "ipython3",
   "version": "3.10.6"
  }
 },
 "nbformat": 4,
 "nbformat_minor": 5
}
