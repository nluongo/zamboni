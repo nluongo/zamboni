{
 "cells": [
  {
   "cell_type": "markdown",
   "id": "974359e7-fe67-4158-bdd3-ff999869245e",
   "metadata": {},
   "source": [
    "## NHL API "
   ]
  },
  {
   "cell_type": "markdown",
   "id": "c3f11b73-66a7-44f3-8f8c-305e14a2d167",
   "metadata": {},
   "source": [
    "This API allows us to query information about NHL games, players, teams, etc.\n",
    "We'll see an example of each of these using the Zamboni API caller."
   ]
  },
  {
   "cell_type": "code",
   "execution_count": null,
   "id": "eb361180-cd56-4c88-a0f4-1221cd9fd59c",
   "metadata": {},
   "outputs": [],
   "source": [
    "from zamboni import APICaller\n",
    "from datetime import date\n",
    "import json\n",
    "from pprint import pprint"
   ]
  },
  {
   "cell_type": "markdown",
   "id": "a5e252e5-40f3-48a2-acee-61f69a81111b",
   "metadata": {},
   "source": [
    "### Games"
   ]
  },
  {
   "cell_type": "markdown",
   "id": "475c75e7-25a9-456e-9527-741aac0b903d",
   "metadata": {},
   "source": [
    "The \"schedule\" endpoint receives a date and returns JSON holding all of the games information (plus results) for that date and each day for the next week\n",
    "\n",
    "Here we query the following URL: https://api-web.nhle.com/v1/schedule/2024-11-05"
   ]
  },
  {
   "cell_type": "code",
   "execution_count": null,
   "id": "ed0530c4-a704-4381-8c65-828ae01b585c",
   "metadata": {},
   "outputs": [],
   "source": [
    "game_caller = APICaller('game')\n",
    "\n",
    "game_date = date(2024, 11, 5)\n",
    "game_info = game_caller.query([game_date])"
   ]
  },
  {
   "cell_type": "markdown",
   "id": "a2219e18-e8d4-4c36-a6d5-772634e0ffaf",
   "metadata": {},
   "source": [
    "Here are the top-level keys of the returned JSON object"
   ]
  },
  {
   "cell_type": "code",
   "execution_count": null,
   "id": "39a4ca99-d617-48a9-bbea-966ba98c9e1a",
   "metadata": {},
   "outputs": [],
   "source": [
    "print(game_info.keys())"
   ]
  },
  {
   "cell_type": "markdown",
   "id": "50347c57-2b00-48b0-822a-b345f640f5e2",
   "metadata": {},
   "source": [
    "The gameWeek object holds the games for each day of the week. It can be unpacked as follows:"
   ]
  },
  {
   "cell_type": "code",
   "execution_count": null,
   "id": "cc474c5c-cebd-44d7-bb93-703ea723c168",
   "metadata": {},
   "outputs": [],
   "source": [
    "game_week = game_info['gameWeek']\n",
    "for day in game_week:\n",
    "    print(f'Date: {day[\"date\"]}')\n",
    "    print()\n",
    "    games = day['games']\n",
    "    for game in games:\n",
    "        home_team = game['homeTeam']\n",
    "        away_team = game['awayTeam']\n",
    "        print(f'{home_team[\"placeName\"][\"default\"]} {home_team[\"commonName\"][\"default\"]}')\n",
    "        print(f'{away_team[\"placeName\"][\"default\"]} {away_team[\"commonName\"][\"default\"]}')\n",
    "        print(game['awayTeam']['abbrev'])\n",
    "        print(f'{game[\"homeTeam\"][\"score\"]} - {game[\"awayTeam\"][\"score\"]}')\n",
    "        print()\n"
   ]
  },
  {
   "cell_type": "markdown",
   "id": "3ea6d59c-f1bf-45ac-9dd3-ed2c9c52df0c",
   "metadata": {},
   "source": [
    "### Teams"
   ]
  },
  {
   "cell_type": "markdown",
   "id": "c0a9b125-8de4-4586-92d9-4a2f58711a8b",
   "metadata": {},
   "source": [
    "For a list of all teams, we can use the \"standings\" endpoint. It also provides a wide variety of metrics for team performance at any given date provided to it\n",
    "\n",
    "We query this URL: https://api-web.nhle.com/v1/standings/now"
   ]
  },
  {
   "cell_type": "code",
   "execution_count": null,
   "id": "6c38c20a-0d6e-4d84-b2df-de010c3f154d",
   "metadata": {},
   "outputs": [],
   "source": [
    "team_caller = APICaller('standings')\n",
    "\n",
    "standings_info = team_caller.query([])"
   ]
  },
  {
   "cell_type": "markdown",
   "id": "fe192d25-197c-45db-9d87-fdeca7d0afa5",
   "metadata": {},
   "source": [
    "Here is the information given for any team in the output from the standings call"
   ]
  },
  {
   "cell_type": "code",
   "execution_count": null,
   "id": "d100e714-d8e1-42da-b6d8-369a234aea97",
   "metadata": {},
   "outputs": [],
   "source": [
    "pprint(standings_info['standings'][0])"
   ]
  },
  {
   "cell_type": "markdown",
   "id": "afef54ca-ef3e-4b41-9b88-9fa0a94d63b8",
   "metadata": {},
   "source": [
    "### Players"
   ]
  },
  {
   "cell_type": "markdown",
   "id": "9df845bb-3331-4fbe-bc0d-4ae6a55b05e8",
   "metadata": {},
   "source": [
    "Information about individual players can be accessed at the \"players\" endpoint.\n",
    "\n",
    "Information from the following URL: https://api-web.nhle.com/v1/player/8457063/landing"
   ]
  },
  {
   "cell_type": "code",
   "execution_count": null,
   "id": "86f9a5a1-b04a-4174-a6e4-a925314fd879",
   "metadata": {},
   "outputs": [],
   "source": [
    "player_caller = APICaller('player')\n",
    "\n",
    "player_info = player_caller.query([8457063])"
   ]
  },
  {
   "cell_type": "code",
   "execution_count": null,
   "id": "ce0eb92a-f77c-41b1-8519-6fc985bd0f94",
   "metadata": {},
   "outputs": [],
   "source": [
    "print(player_info.keys())"
   ]
  },
  {
   "cell_type": "code",
   "execution_count": null,
   "id": "ac66c133-451d-404f-bb01-f581d12df680",
   "metadata": {},
   "outputs": [],
   "source": [
    "print(f'Name: {player_info[\"firstName\"][\"default\"]} {player_info[\"lastName\"][\"default\"]}')\n",
    "print(f'Number: {player_info[\"sweaterNumber\"]}')\n",
    "print(f'Position: {player_info[\"position\"]}')\n",
    "print('Career Totals')\n",
    "pprint(player_info[\"careerTotals\"])"
   ]
  },
  {
   "cell_type": "markdown",
   "id": "93c01e34-4e51-4af0-b810-10f8181f3f93",
   "metadata": {},
   "source": [
    "### Rosters"
   ]
  },
  {
   "cell_type": "markdown",
   "id": "06441721-95b2-4eab-8c73-5b58a32b4c32",
   "metadata": {},
   "source": [
    "The \"roster\" endpoint gives information on which players are assigned to which team for a given season. The team and season must be supplied.\n",
    "\n",
    "URL: https://api-web.nhle.com/v1/roster/DET/202024"
   ]
  },
  {
   "cell_type": "code",
   "execution_count": null,
   "id": "40d33e19-483a-4caa-b6a6-2094452a9df4",
   "metadata": {},
   "outputs": [],
   "source": [
    "roster_caller = APICaller('roster')\n",
    "\n",
    "roster_info = roster_caller.query(['DET', 1997, 1998])"
   ]
  },
  {
   "cell_type": "markdown",
   "id": "0b313d5b-460e-4fce-b763-70d2d5cd18dd",
   "metadata": {},
   "source": [
    "The roster is split by position"
   ]
  },
  {
   "cell_type": "code",
   "execution_count": null,
   "id": "51f8e592-1023-4d78-b8dd-6b2c63b901fe",
   "metadata": {},
   "outputs": [],
   "source": [
    "print(roster_info.keys())"
   ]
  },
  {
   "cell_type": "code",
   "execution_count": null,
   "id": "522931ea-dc3d-48af-960d-061dbbcbbf31",
   "metadata": {},
   "outputs": [],
   "source": [
    "forwards = roster_info['forwards']\n",
    "defensemen = roster_info['defensemen']\n",
    "goalies = roster_info['goalies']"
   ]
  },
  {
   "cell_type": "code",
   "execution_count": null,
   "id": "29ce5b0f-d8d4-47ae-9acd-a1d8da62d4c3",
   "metadata": {},
   "outputs": [],
   "source": [
    "for position in ['forwards', 'defensemen', 'goalies']:\n",
    "    players = roster_info[position]\n",
    "    print(position)\n",
    "    for player in players:\n",
    "        print(f'Name: {player[\"firstName\"][\"default\"]} {player[\"lastName\"][\"default\"]}')\n",
    "    print()"
   ]
  },
  {
   "cell_type": "code",
   "execution_count": null,
   "id": "51c6a51c-1f08-493c-9e7a-0cff2483d9d4",
   "metadata": {},
   "outputs": [],
   "source": []
  }
 ],
 "metadata": {
  "kernelspec": {
   "display_name": "Python 3 (ipykernel)",
   "language": "python",
   "name": "python3"
  },
  "language_info": {
   "codemirror_mode": {
    "name": "ipython",
    "version": 3
   },
   "file_extension": ".py",
   "mimetype": "text/x-python",
   "name": "python",
   "nbconvert_exporter": "python",
   "pygments_lexer": "ipython3",
   "version": "3.10.6"
  }
 },
 "nbformat": 4,
 "nbformat_minor": 5
}
