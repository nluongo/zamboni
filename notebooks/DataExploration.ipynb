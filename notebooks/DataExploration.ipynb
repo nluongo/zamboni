{
 "cells": [
  {
   "cell_type": "code",
   "execution_count": 1,
   "id": "65e80f15-e990-4733-992e-21e7de81bf47",
   "metadata": {},
   "outputs": [],
   "source": [
    "from zamboni import DBConnector, Exporter\n",
    "from zamboni.pd_helpers import filter_by_game_type, filter_by_season, filter_by_team, won_by_team, _wins_game\n",
    "import pandas as pd\n",
    "import numpy as np\n",
    "import matplotlib.pyplot as plt\n",
    "#from sklearn.model_selection import LinearRegression"
   ]
  },
  {
   "cell_type": "code",
   "execution_count": 2,
   "id": "1365af74-2a78-469b-82e5-2f8fcf7e2020",
   "metadata": {},
   "outputs": [],
   "source": [
    "db_con = DBConnector('../data/zamboni.db')\n",
    "conn = db_con.connect_db()"
   ]
  },
  {
   "cell_type": "code",
   "execution_count": 3,
   "id": "b6d344a8-c660-4851-938a-702471acc7bd",
   "metadata": {},
   "outputs": [],
   "source": [
    "games_sql = 'SELECT * ' \\\n",
    "    'FROM games '"
   ]
  },
  {
   "cell_type": "code",
   "execution_count": null,
   "id": "e8b9bda4-629c-4031-9181-d27456ce7cc4",
   "metadata": {},
   "outputs": [],
   "source": [
    "games_df = pd.read_sql(games_sql, conn)"
   ]
  },
  {
   "cell_type": "markdown",
   "id": "91d3436b-7304-4bcf-a52e-cf58aff0d6c6",
   "metadata": {},
   "source": [
    "### Goals per game by home and away teams"
   ]
  },
  {
   "cell_type": "code",
   "execution_count": null,
   "id": "9c7a2a8c-9a39-4c02-a48b-dc62917f90ff",
   "metadata": {},
   "outputs": [
    {
     "name": "stdout",
     "output_type": "stream",
     "text": [
      "Mean goals scored by home team: 3.22\n",
      "Mean goals scored by away team: 2.96\n"
     ]
    },
    {
     "data": {
      "image/png": "[encoded data removed]",
      "text/plain": [
       "<Figure size 640x480 with 1 Axes>"
      ]
     },
     "metadata": {},
     "output_type": "display_data"
    }
   ],
   "source": [
    "mean_home_goals = np.mean(games_df['homeTeamGoals'])\n",
    "mean_away_goals = np.mean(games_df['awayTeamGoals'])\n",
    "print(f'Mean goals scored by home team: {mean_home_goals:.2f}')\n",
    "print(f'Mean goals scored by away team: {mean_away_goals:.2f}')\n",
    "home_hist = plt.hist(games_df['homeTeamGoals'], bins=10, range=[0,10], alpha=0.5, label='Home', density=True)\n",
    "plt.axvline(mean_home_goals, color='dimgray', linestyle='-')\n",
    "away_hist = plt.hist(games_df['awayTeamGoals'], bins=10, range=[0,10], alpha=0.5, label='Away', density=True)\n",
    "plt.axvline(mean_away_goals, color='gray', linestyle='--')\n",
    "plt.title('Goals Per Game')\n",
    "plt.xlabel('Goals')\n",
    "plt.legend()\n",
    "plt.show()"
   ]
  },
  {
   "cell_type": "code",
   "execution_count": null,
   "id": "acb4ae42-143d-42df-90e1-1cc0e7227ba6",
   "metadata": {},
   "outputs": [],
   "source": [
    "sql = 'SELECT * ' \\\n",
    "    'FROM games_per_team ' \\\n",
    "    'INNER JOIN games ON games_per_team.gameID = games.id ' \\\n",
    "    'INNER JOIN teams ON games_per_team.teamID = teams.id ' \\\n",
    "        \n",
    "teams_sql = 'SELECT * FROM teams'"
   ]
  },
  {
   "cell_type": "code",
   "execution_count": null,
   "id": "a0e82053-4711-4851-88d7-5e6ca5532d1a",
   "metadata": {},
   "outputs": [],
   "source": [
    "df = pd.read_sql(sql, conn)\n",
    "teams_info_df = pd.read_sql(teams_sql, conn)"
   ]
  },
  {
   "cell_type": "code",
   "execution_count": null,
   "id": "5267704d-4755-4b2c-a350-cc858acf7529",
   "metadata": {},
   "outputs": [],
   "source": [
    "print(df)"
   ]
  },
  {
   "cell_type": "code",
   "execution_count": null,
   "id": "70e1bf81-a964-4907-af5c-e566778bd249",
   "metadata": {},
   "outputs": [],
   "source": [
    "print(teams_info_df)"
   ]
  },
  {
   "cell_type": "code",
   "execution_count": null,
   "id": "aae58c75-f33f-4932-9301-5bfe6c0ccd92",
   "metadata": {},
   "outputs": [],
   "source": [
    "print(df.iloc[0])"
   ]
  },
  {
   "cell_type": "code",
   "execution_count": null,
   "id": "251e99e1-41db-4f3f-9f7e-88a1e8eef966",
   "metadata": {},
   "outputs": [],
   "source": [
    "season_id = 20222023\n",
    "\n",
    "season_df = filter_by_season(df, season_id)\n",
    "season_grouped_df = season_df.groupby(by='nameAbbrev', as_index=False)\n",
    "win_df = season_grouped_df.agg({'won':['count','sum'], 'tied':['sum']})\n",
    "win_df.columns = ['nameAbbrev', 'played','won','tied']"
   ]
  },
  {
   "cell_type": "code",
   "execution_count": null,
   "id": "2f9d26d5-f318-43b8-abc0-0ecd7a5b52d9",
   "metadata": {},
   "outputs": [],
   "source": [
    "records = win_df[['nameAbbrev', 'won_sum']].sort_values(by='won_sum', ascending=True)\n",
    "\n",
    "abbrevs = records['nameAbbrev']\n",
    "wins = records['won_sum']\n",
    "ys = [2*i for i in range(len(records))]\n",
    "\n",
    "fig, ax = plt.subplots(figsize=(10,10))\n",
    "plt.barh(ys, wins)\n",
    "plt.yticks(ys, abbrevs)\n",
    "plt.title('Wins (2022-2023)', size=20)\n",
    "plt.ylabel('Team')\n",
    "plt.xlabel('Wins')\n",
    "plt.show()"
   ]
  },
  {
   "cell_type": "code",
   "execution_count": null,
   "id": "cf3ffc4c-7d9e-4dc5-a5e6-8d68977dee39",
   "metadata": {},
   "outputs": [],
   "source": [
    "a_df = filter_by_team(df, 1)\n",
    "a_df = filter_by_game_type(a_df, 2)\n",
    "a_df = filter_by_season(a_df, 20222023)\n",
    "#a_df = won_by_team(a_df, 1)\n",
    "print(len(a_df))\n",
    "print(a_df)"
   ]
  },
  {
   "cell_type": "code",
   "execution_count": null,
   "id": "b0a422b5-4edb-4151-bbdd-c273978968ea",
   "metadata": {},
   "outputs": [],
   "source": [
    "fil_df = a_df\n",
    "fil_df['Won'] = df.apply(_wins_game, axis=1)\n",
    "fil_df['Lost'] = ~fil_df['Won']\n",
    "fil_df['WonLast'] = fil_df['Won'].shift(1)\n",
    "fil_df['WonNext'] = fil_df['Won'].shift(-1)\n",
    "fil_df['WonAndNext'] = fil_df['Won'] & fil_df['WonNext']\n",
    "fil_df['LostWonNext'] = fil_df['Lost'] & fil_df['WonNext']"
   ]
  },
  {
   "cell_type": "code",
   "execution_count": null,
   "id": "3f31cdb0-7f85-4ab9-9c07-3e85be3a30f9",
   "metadata": {},
   "outputs": [],
   "source": [
    "print(fil_df.iloc[0])"
   ]
  },
  {
   "cell_type": "code",
   "execution_count": null,
   "id": "03266588-efde-4034-b95c-8a078b0348d3",
   "metadata": {},
   "outputs": [],
   "source": [
    "print(f'Games: {len(fil_df)}')\n",
    "print(f'Wins: {sum(fil_df[\"Won\"])}')\n",
    "print(sum(fil_df['Won'])/len(fil_df))"
   ]
  },
  {
   "cell_type": "code",
   "execution_count": null,
   "id": "0f2d8564-2556-4a6b-9c23-6776f14c3788",
   "metadata": {},
   "outputs": [],
   "source": [
    "print(sum(fil_df[:-1]['WonAndNext']) / sum(fil_df[:-1]['Won']))\n",
    "print(sum(fil_df[:-1]['LostWonNext']) / sum(fil_df[:-1]['Lost']))"
   ]
  },
  {
   "cell_type": "markdown",
   "id": "f97ad9f2-e7f1-4f59-b5d9-b2b07399b95f",
   "metadata": {},
   "source": [
    "## Games with all previous games (2022-2023)"
   ]
  },
  {
   "cell_type": "markdown",
   "id": "160b562e-0291-486d-bc42-58779a65771d",
   "metadata": {},
   "source": [
    "#### Each row is a game and previous game for the same team and season. This is intended to allow for calculation of wins/record to date in that season for a game"
   ]
  },
  {
   "cell_type": "code",
   "execution_count": null,
   "id": "77acb8ec-eac3-468d-9f8e-53ea427e5870",
   "metadata": {},
   "outputs": [],
   "source": [
    "sql = 'SELECT games_per_team.gameID as gameID, ' \\\n",
    "        'games_per_team.won as won, ' \\\n",
    "        'games_per_team.teamID as teamID, ' \\\n",
    "        'games.datePlayed as datePlayed, ' \\\n",
    "        'games.seasonID as seasonID, ' \\\n",
    "        'other_games.datePlayed as prevDatePlayed, ' \\\n",
    "        'other_games_per_team.won as prevWon ' \\\n",
    "    'FROM games_per_team ' \\\n",
    "    'INNER JOIN games ON games_per_team.gameID = games.id ' \\\n",
    "    'INNER JOIN teams ON games_per_team.teamID = teams.id ' \\\n",
    "    'INNER JOIN games other_games ON games_per_team.teamID = other_games.homeTeamID ' \\\n",
    "        'OR games_per_team.teamID = other_games.awayTeamID ' \\\n",
    "    'INNER JOIN games_per_team other_games_per_team ON other_games.id = other_games_per_team.gameID ' \\\n",
    "        'AND games_per_team.teamID = other_games_per_team.teamID ' \\\n",
    "    'WHERE games.datePlayed > other_games.datePlayed ' \\\n",
    "        'AND games.seasonID = other_games.seasonID ' \\\n",
    "        'AND games.seasonID = 20222023 ' \\\n",
    "        \n",
    "df = pd.read_sql(sql, conn)"
   ]
  },
  {
   "cell_type": "code",
   "execution_count": null,
   "id": "52070d63-211e-4beb-874c-03afe6a55d03",
   "metadata": {},
   "outputs": [],
   "source": [
    "print(df)"
   ]
  },
  {
   "cell_type": "code",
   "execution_count": null,
   "id": "1c759929-ca5d-45c1-aa2f-43fabcab27f2",
   "metadata": {},
   "outputs": [],
   "source": [
    "#team_df = df[df['teamID'] == 1]\n",
    "#print(team_df)"
   ]
  },
  {
   "cell_type": "code",
   "execution_count": null,
   "id": "cf82ca86-9ed1-4e60-a3d0-11cf50ca8a09",
   "metadata": {},
   "outputs": [],
   "source": [
    "print(df[df['gameID'] == 2643][['teamID', 'gameID', 'won', 'datePlayed', 'prevDatePlayed', 'prevWon']])"
   ]
  },
  {
   "cell_type": "markdown",
   "id": "47d991f5-6a3d-4a07-bfdb-48fef0e93476",
   "metadata": {},
   "source": [
    "## Games with win/goals summaries to date"
   ]
  },
  {
   "cell_type": "code",
   "execution_count": null,
   "id": "3b530327-78f6-43e8-ae4b-c9e1c42beca0",
   "metadata": {},
   "outputs": [],
   "source": [
    "sql = 'SELECT gameID, '\\\n",
    "        'teamID, '\\\n",
    "\t\t'seasonID, '\\\n",
    "\t\t'won, '\\\n",
    "\t\t'CAST(SUM(prevWon) AS REAL) / COUNT(*) AS prevWonPercentage, '\\\n",
    "        'CAST(SUM(prevGoals) AS REAL) / COUNT(*) AS prevGoalsScoredPerGame, '\\\n",
    "        'CAST(SUM(prevOppGoals) AS REAL) / COUNT(*) AS prevGoalsAgainstPerGame, '\\\n",
    "\t\t'SUM(prevWon), '\\\n",
    "\t\t'SUM(prevGoals), '\\\n",
    "\t\t'SUM(prevOppGoals), '\\\n",
    "\t\t'COUNT(*) '\\\n",
    "\t'FROM games_with_previous '\\\n",
    "\t'GROUP BY gameID, seasonID'"
   ]
  },
  {
   "cell_type": "code",
   "execution_count": null,
   "id": "ff9954c4-593b-4c1e-9438-6546fa987f45",
   "metadata": {},
   "outputs": [],
   "source": [
    "df = pd.read_sql(sql, conn)"
   ]
  },
  {
   "cell_type": "code",
   "execution_count": null,
   "id": "277476bb-e392-40bf-b2b0-ba16b5f7dc0e",
   "metadata": {},
   "outputs": [],
   "source": [
    "print(df)"
   ]
  },
  {
   "cell_type": "markdown",
   "id": "4f7c9e7c-c490-4685-a0ac-6b8ef508a3e0",
   "metadata": {},
   "source": [
    "## Win percentage to date"
   ]
  },
  {
   "cell_type": "code",
   "execution_count": null,
   "id": "9824547a-5e10-4065-9e31-9781b4bf0b06",
   "metadata": {},
   "outputs": [],
   "source": [
    "b, a = np.polyfit(df['prevWonPercentage'], df['won'], deg=1)\n",
    "x_vals = np.linspace(0,1,100)\n",
    "plt.plot(x_vals, a + b*x_vals, color='k')\n",
    "plt.scatter(df['prevWonPercentage'], df['won'])\n",
    "plt.title('Win vs. Previous Win Percentage')\n",
    "plt.xlabel('Previous Win Percentage')\n",
    "plt.ylabel('Win Y/N')\n",
    "plt.show()"
   ]
  },
  {
   "cell_type": "code",
   "execution_count": null,
   "id": "a7aaace3-6005-45d5-a484-d883c0657dc9",
   "metadata": {},
   "outputs": [],
   "source": [
    "win_mask = df['won'] == 1\n",
    "lost_mask = np.logical_not(win_mask)\n",
    "won_percentages = df['prevWonPercentage'][win_mask]\n",
    "print('Mean previous win percentage when game is won:')\n",
    "print(f'{round(np.mean(won_percentages)*100, 1)}%')"
   ]
  },
  {
   "cell_type": "code",
   "execution_count": null,
   "id": "f894326a-0ca2-463e-9850-d05f2184ed75",
   "metadata": {},
   "outputs": [],
   "source": [
    "lost_percentages = df['prevWonPercentage'][lost_mask]\n",
    "print('Mean previous win percentage when game is lost:')\n",
    "print(f'{round(np.mean(lost_percentages)*100, 1)}%')"
   ]
  },
  {
   "cell_type": "code",
   "execution_count": null,
   "id": "98f92460-4537-4dd9-b85d-52dc0e1889eb",
   "metadata": {},
   "outputs": [],
   "source": [
    "bins = [np.array([0,0.05]) + 0.05*n for n in range(20)]\n",
    "win_percentages = df['prevWonPercentage']\n",
    "outcomes = df['won']\n",
    "plot_x = []\n",
    "plot_y = []\n",
    "for low_val, high_val in bins:\n",
    "    above_mask = win_percentages > low_val\n",
    "    below_mask = win_percentages < high_val\n",
    "    mask = np.all([above_mask,below_mask], axis=0)\n",
    "    binned_outcomes = outcomes[mask]\n",
    "    if len(binned_outcomes) > 0:\n",
    "        plot_y += [sum(binned_outcomes)/len(binned_outcomes)]\n",
    "    else:\n",
    "        plot_y += [0]\n",
    "    plot_x += [(low_val + high_val)/2]"
   ]
  },
  {
   "cell_type": "code",
   "execution_count": null,
   "id": "0a1a92de-3986-4b6a-9e44-70f0a9098d77",
   "metadata": {},
   "outputs": [],
   "source": [
    "b, a = np.polyfit(plot_x[4:16], plot_y[4:16], deg=1)\n",
    "x_vals = np.linspace(0,1,100)\n",
    "plt.scatter(plot_x, plot_y)\n",
    "plt.plot(x_vals, a + b*x_vals)\n",
    "plt.title('Average win percentage vs. binned previous win percentage')\n",
    "plt.show()"
   ]
  },
  {
   "cell_type": "markdown",
   "id": "6bf8c5a0-6f14-440e-9dc1-407bd3a43e45",
   "metadata": {},
   "source": [
    "## Average goals scored per game"
   ]
  },
  {
   "cell_type": "code",
   "execution_count": null,
   "id": "ccdec6be-d860-4110-8fd0-03314c051ce0",
   "metadata": {},
   "outputs": [],
   "source": [
    "b, a = np.polyfit(df['prevGoalsScoredPerGame'], df['won'], deg=1)\n",
    "x_vals = np.linspace(0,10,100)\n",
    "plt.plot(x_vals, a + b*x_vals, color='k')\n",
    "plt.scatter(df['prevGoalsScoredPerGame'], df['won'])\n",
    "plt.title('Win vs. Previous Goals Scored Per Game')\n",
    "plt.xlabel('Goals Per Game')\n",
    "plt.ylabel('Win Y/N')\n",
    "plt.show()"
   ]
  },
  {
   "cell_type": "code",
   "execution_count": null,
   "id": "55827348-a2d0-4195-8bfd-c961cba4cf65",
   "metadata": {},
   "outputs": [],
   "source": [
    "b, a = np.polyfit(df['prevGoalsAgainstPerGame'], df['won'], deg=1)\n",
    "x_vals = np.linspace(0,6,100)\n",
    "plt.plot(x_vals, a + b*x_vals, color='k')\n",
    "plt.scatter(df['prevGoalsAgainstPerGame'], df['won'])\n",
    "plt.title('Win vs. Previous Goals Scored Per Game')\n",
    "plt.xlabel('Goals Per Game')\n",
    "plt.ylabel('Win Y/N')\n",
    "plt.show()"
   ]
  },
  {
   "cell_type": "markdown",
   "id": "dca39ef4-1de2-403d-b853-13e0f2da646c",
   "metadata": {},
   "source": [
    "## Won previous encounter between teams"
   ]
  },
  {
   "cell_type": "code",
   "execution_count": null,
   "id": "28ba3202-ca00-412b-90b6-44c7019c30f6",
   "metadata": {},
   "outputs": [],
   "source": [
    "sql = 'SELECT gameID, '\\\n",
    "    'prevSameOppGameID, '\\\n",
    "\t'teamID, '\\\n",
    "\t'oppTeamID, '\\\n",
    "\t'won, '\\\n",
    "\t'prevWon '\\\n",
    "\t'FROM ( SELECT gameID AS prevSameOppGameID, '\\\n",
    "    \t\t'teamID AS prevSameOppTeamID, '\\\n",
    "    \t\t'MAX(prevDatePlayed) AS prevSameOppDatePlayed '\\\n",
    "    \t'FROM games_with_previous '\\\n",
    "    \t'WHERE oppTeamID=prevOppTeamID '\\\n",
    "    \t'GROUP BY gameID ) same_opp '\\\n",
    "\t'INNER JOIN games_with_previous '\\\n",
    "\t\t'ON same_opp.prevSameOppDatePlayed=games_with_previous.prevDatePlayed '\\\n",
    "\t'WHERE seasonID=20202021 '\\\n",
    "\t'ORDER BY gameID'"
   ]
  },
  {
   "cell_type": "code",
   "execution_count": null,
   "id": "c2461131-2a2f-4b4f-9076-5f53e7a1c125",
   "metadata": {},
   "outputs": [],
   "source": [
    "print(sql)"
   ]
  },
  {
   "cell_type": "code",
   "execution_count": null,
   "id": "84ff6ef5-4535-46d6-9967-54c00500b01e",
   "metadata": {},
   "outputs": [],
   "source": [
    "df = pd.read_sql(sql, conn)"
   ]
  },
  {
   "cell_type": "code",
   "execution_count": null,
   "id": "5b38457d-5f81-4e6c-9753-8e73a7b80337",
   "metadata": {},
   "outputs": [],
   "source": [
    "print(df)"
   ]
  },
  {
   "cell_type": "code",
   "execution_count": null,
   "id": "0f764fdc-7e7b-43f8-8bc1-1fa3744ff028",
   "metadata": {},
   "outputs": [],
   "source": [
    "won = df['won']\n",
    "prev_won = df['prevWon']\n",
    "prev_won_mask = prev_won==1\n",
    "prev_lost_mask = prev_won==0\n",
    "won_prev_won = [int(val) for val in won[prev_won_mask]]\n",
    "won_prev_lost = [int(val) for val in won[prev_lost_mask]]\n",
    "print(f'Percentage of games won when won previous encounter: {sum(won[prev_won_mask]) / len(won[prev_won_mask])*100:.1f}%')\n",
    "print(f'Percentage of games won when lost previous encounter: {sum(won[prev_lost_mask]) / len(won[prev_lost_mask])*100:.1f}%')\n",
    "print()\n",
    "plt.hist(won_prev_won, density=True, alpha=0.5, label='Won previous')\n",
    "plt.hist(won_prev_lost, density=True, alpha=0.5, label='Lost previous')\n",
    "plt.legend()\n",
    "plt.title('Outcome by previous outcome')\n",
    "plt.xlabel('Win/loss')\n",
    "plt.show()"
   ]
  },
  {
   "cell_type": "markdown",
   "id": "633eb5a5-7e2b-40b5-83a7-55f85af07122",
   "metadata": {},
   "source": [
    "## All fields"
   ]
  },
  {
   "cell_type": "code",
   "execution_count": null,
   "id": "b1a9ca0d-fecb-4abe-adb7-989537cda732",
   "metadata": {},
   "outputs": [],
   "source": [
    "sql = 'SELECT id, '\\\n",
    "\t\t'games.homeTeamID, '\\\n",
    "\t\t'home_gwp.prevGameID, '\\\n",
    "\t\t'home_gwp.prevWon AS homePrevWon, '\\\n",
    "\t\t'home_gwp.prevGoals AS homePrevGoals, '\\\n",
    "\t\t'home_gwp.prevOppGoals AS homePrevOppGoals, '\\\n",
    "\t\t'games.awayTeamID, '\\\n",
    "\t\t'away_gwp.prevGameID, '\\\n",
    "\t\t'away_gwp.prevWon AS awayPrevWon, '\\\n",
    "\t\t'away_gwp.prevGoals AS awayPrevGoals, '\\\n",
    "\t\t'away_gwp.prevOppGoals AS awayPrevOppGoals, '\\\n",
    "\t\t'matchup_gwp.won AS homeWonPrevMatchup, '\\\n",
    "        'matchup_gwp.inOT AS homeInOTPrevMatchup '\\\n",
    "\t'FROM games '\\\n",
    "\t'LEFT OUTER JOIN games_with_previous home_gwp '\\\n",
    "\t\t'ON games.id=home_gwp.gameID AND games.homeTeamID=home_gwp.teamID '\\\n",
    "\t'LEFT OUTER JOIN games_with_previous away_gwp '\\\n",
    "\t\t'ON games.id=away_gwp.gameID AND games.awayTeamID=away_gwp.teamID '\\\n",
    "    'LEFT OUTER JOIN games_prev_same_opp same_opp '\\\n",
    "        'ON games.id=same_opp.gameID '\\\n",
    "\t'LEFT OUTER JOIN games_with_previous matchup_gwp '\\\n",
    "\t\t'ON same_opp.prevSameOppDatePlayed=matchup_gwp.datePlayed '\\\n",
    "\t\t'AND games.homeTeamID=matchup_gwp.teamID '\\\n",
    "\t'WHERE games.id<100"
   ]
  },
  {
   "cell_type": "code",
   "execution_count": null,
   "id": "ace68d7a-b046-41da-b7df-e73187c85b51",
   "metadata": {},
   "outputs": [],
   "source": [
    "sql = 'SELECT games.id, \\n'\\\n",
    "\t\t'MAX(games.homeTeamID) AS homeTeamID, \\n'\\\n",
    "\t\t'IFNULL(CAST(SUM(home_gwp.prevWon) AS REAL) / COUNT(home_gwp.gameID), 0) AS homePrevWonPercentage, \\n'\\\n",
    "\t\t'IFNULL(CAST(SUM(home_gwp.prevGoals) AS REAL) / COUNT(home_gwp.gameID), 0) AS homePrevGoalsPerGame, \\n'\\\n",
    "\t\t'IFNULL(CAST(SUM(home_gwp.prevOppGoals) AS REAL) / COUNT(home_gwp.gameID), 0) AS homePrevOppGoalsPerGame, \\n'\\\n",
    "        'COUNT(home_gwp.gameID) AS homePrevGamesPlayed, \\n'\\\n",
    "\t\t'MAX(games.awayTeamID) AS awayTeamID, \\n'\\\n",
    "\t\t'IFNULL(CAST(SUM(away_gwp.prevWon) AS REAL) / COUNT(away_gwp.gameID), 0) AS awayPrevWonPercentage, \\n'\\\n",
    "\t\t'IFNULL(CAST(SUM(away_gwp.prevGoals) AS REAL) / COUNT(away_gwp.gameID), 0) AS awayPrevGoalsPerGame, \\n'\\\n",
    "\t\t'IFNULL(CAST(SUM(away_gwp.prevOppGoals) AS REAL) / COUNT(away_gwp.gameID), 0) AS awayPrevOppGoalsPerGame, \\n'\\\n",
    "        'COUNT(away_gwp.gameID) AS awayPrevGamesPlayed \\n'\\\n",
    "\t'FROM games \\n'\\\n",
    "\t'LEFT OUTER JOIN games_with_previous home_gwp \\n'\\\n",
    "\t\t'ON games.id=home_gwp.gameID AND games.homeTeamID=home_gwp.teamID \\n'\\\n",
    "\t'LEFT OUTER JOIN games_with_previous away_gwp \\n'\\\n",
    "\t\t'ON games.id=away_gwp.gameID AND games.awayTeamID=away_gwp.teamID \\n'\\\n",
    "    'GROUP BY games.id'"
   ]
  },
  {
   "cell_type": "code",
   "execution_count": null,
   "id": "97746e2d-1995-4682-a507-dcf0cbfd5568",
   "metadata": {},
   "outputs": [],
   "source": [
    "print(sql)"
   ]
  },
  {
   "cell_type": "code",
   "execution_count": null,
   "id": "956c0ba2-382c-461b-959c-1547a9168305",
   "metadata": {},
   "outputs": [],
   "source": [
    "df = pd.read_sql(sql, conn)"
   ]
  },
  {
   "cell_type": "code",
   "execution_count": null,
   "id": "789aa33e-9f21-449a-a0c7-f093f3cad21f",
   "metadata": {},
   "outputs": [],
   "source": [
    "print(df)"
   ]
  },
  {
   "cell_type": "code",
   "execution_count": null,
   "id": "59f06633-4ca0-442c-9b39-ccc66503d10d",
   "metadata": {},
   "outputs": [],
   "source": []
  }
 ],
 "metadata": {
  "kernelspec": {
   "display_name": "Python 3 (ipykernel)",
   "language": "python",
   "name": "python3"
  },
  "language_info": {
   "codemirror_mode": {
    "name": "ipython",
    "version": 3
   },
   "file_extension": ".py",
   "mimetype": "text/x-python",
   "name": "python",
   "nbconvert_exporter": "python",
   "pygments_lexer": "ipython3",
   "version": "3.10.6"
  }
 },
 "nbformat": 4,
 "nbformat_minor": 5
}
